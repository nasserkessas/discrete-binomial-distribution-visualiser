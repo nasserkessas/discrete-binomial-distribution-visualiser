{
 "cells": [
  {
   "cell_type": "code",
   "execution_count": null,
   "metadata": {},
   "outputs": [],
   "source": [
    "%pip install matplotlib\n",
    "\n",
    "# Imports\n",
    "import matplotlib.pyplot as plt\n",
    "from random import choices\n",
    "from collections import Counter\n",
    "import numpy as np\n",
    "from math import comb\n",
    "\n",
    "plt.style.use('_mpl-gallery')"
   ]
  },
  {
   "cell_type": "code",
   "execution_count": 2,
   "metadata": {},
   "outputs": [],
   "source": [
    "### PARAMETERS ###\n",
    "trials = 100000\n",
    "iterations = 50\n",
    "\n",
    "# 1/2 chances of success\n",
    "success_number = 1\n",
    "total_number = 2"
   ]
  },
  {
   "cell_type": "code",
   "execution_count": 3,
   "metadata": {},
   "outputs": [],
   "source": [
    "# Data generation\n",
    "\n",
    "# Uncomment to read data from JSON file\n",
    "# f = open(\"./out.json\", \"a\")\n",
    "\n",
    "outcomes = [\"success\", \"fail\"]\n",
    "\n",
    "data = []\n",
    "\n",
    "for t in range(trials):\n",
    "    trial_data = choices(outcomes, weights=[success_number, total_number-success_number], k=iterations)\n",
    "    data.append(dict(sorted(Counter(trial_data).items())))\n",
    "\n",
    "# Uncomment to save data to JSON file\n",
    "# f.write(str(data))\n",
    "# f.close()"
   ]
  },
  {
   "cell_type": "code",
   "execution_count": 4,
   "metadata": {},
   "outputs": [],
   "source": [
    "data_array = []\n",
    "\n",
    "for trial in data:\n",
    "    data_array.append(iterations-trial['fail'])\n",
    "\n",
    "counted_data = dict(Counter(data_array))\n",
    "\n",
    "x = list(np.arange(0, iterations+1))\n",
    "y = []\n",
    "for success_amount in x:\n",
    "    try:\n",
    "        y.append(counted_data[success_amount])\n",
    "    except KeyError:\n",
    "        y.append(0)"
   ]
  },
  {
   "cell_type": "code",
   "execution_count": null,
   "metadata": {},
   "outputs": [],
   "source": [
    "# Make plot\n",
    "fig, ax = plt.subplots()\n",
    "\n",
    "ratio = 16/9\n",
    "size = 5\n",
    "fig.set_size_inches(size*ratio, size)\n",
    "fig.set_dpi(300)\n",
    "\n",
    "ax.bar(x, y, width=1, align=\"edge\", edgecolor=\"white\", linewidth=0.7)\n",
    "ax.set(xlim=(0, total_number),\n",
    "       ylim=(0, max(y)*1.05), yticks=np.linspace(0, max(y)*1.05, 10))\n",
    "\n",
    "# Centering tick labels\n",
    "ax.set_xticklabels('')\n",
    "\n",
    "ax.set_xticks([a+0.5 for a in x], minor=True)\n",
    "ax.set_xticklabels(x, minor=True)\n",
    "\n",
    "ax.set_xticks(x)\n",
    "\n",
    "ax.set_xlabel(\"Amount of successes\")\n",
    "ax.set_ylabel(\"Frequency\")\n",
    "\n",
    "# Show plot\n",
    "plt.show()"
   ]
  },
  {
   "cell_type": "code",
   "execution_count": 6,
   "metadata": {},
   "outputs": [],
   "source": [
    "experimental_probabilities = [y_value/trials for y_value in y]\n",
    "\n",
    "def binom(n, k, p):\n",
    "    return comb(n, k) * p**k * (1-p)**(n-k)\n",
    "\n",
    "theoretical_probablities = [binom(iterations, x_value, success_number/total_number) for x_value in x]"
   ]
  },
  {
   "cell_type": "code",
   "execution_count": null,
   "metadata": {},
   "outputs": [],
   "source": [
    "fig, ax = plt.subplots()\n",
    "\n",
    "ratio = 16/9\n",
    "size = 5\n",
    "fig.set_size_inches(size*ratio, size)\n",
    "fig.set_dpi(300)\n",
    "\n",
    "\n",
    "ax.plot(x, experimental_probabilities, color=\"orange\", label='Experimental probability')\n",
    "\n",
    "ax.plot(x, theoretical_probablities, color=\"red\", label=\"Theoretical probability\")\n",
    "\n",
    "ax.legend()\n",
    "\n",
    "ax.set_xlabel(\"Amount of successes\")\n",
    "ax.set_ylabel(\"Probablility\")\n",
    "\n",
    "plt.show()"
   ]
  }
 ],
 "metadata": {
  "kernelspec": {
   "display_name": "Python 3",
   "language": "python",
   "name": "python3"
  },
  "language_info": {
   "codemirror_mode": {
    "name": "ipython",
    "version": 3
   },
   "file_extension": ".py",
   "mimetype": "text/x-python",
   "name": "python",
   "nbconvert_exporter": "python",
   "pygments_lexer": "ipython3",
   "version": "3.10.8"
  },
  "orig_nbformat": 4,
  "vscode": {
   "interpreter": {
    "hash": "aee8b7b246df8f9039afb4144a1f6fd8d2ca17a180786b69acc140d282b71a49"
   }
  }
 },
 "nbformat": 4,
 "nbformat_minor": 2
}
